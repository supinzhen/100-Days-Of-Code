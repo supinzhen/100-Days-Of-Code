{
 "cells": [
  {
   "cell_type": "markdown",
   "id": "fc674baa",
   "metadata": {},
   "source": [
    "<h1>原來python可以表現複數complex</h1>\n",
    "    \n",
    "<p>實數 使用(+)與(-)號與虛數連在一起\n",
    "<p>虛數 後面要加一個j\n",
    "<p>z.conjugate() ----用於變更須數部分的正負號"
   ]
  },
  {
   "cell_type": "code",
   "execution_count": 29,
   "id": "b2832290",
   "metadata": {},
   "outputs": [],
   "source": [
    "z = 1-2j"
   ]
  },
  {
   "cell_type": "code",
   "execution_count": 21,
   "id": "e89d42b6",
   "metadata": {},
   "outputs": [],
   "source": [
    "z2 = z.conjugate()"
   ]
  },
  {
   "cell_type": "code",
   "execution_count": 24,
   "id": "70322261",
   "metadata": {},
   "outputs": [
    {
     "data": {
      "text/plain": [
       "True"
      ]
     },
     "execution_count": 24,
     "metadata": {},
     "output_type": "execute_result"
    }
   ],
   "source": [
    "z*z2 == 5"
   ]
  },
  {
   "cell_type": "code",
   "execution_count": 15,
   "id": "911b6bc6",
   "metadata": {},
   "outputs": [
    {
     "data": {
      "text/plain": [
       "-2.0"
      ]
     },
     "execution_count": 15,
     "metadata": {},
     "output_type": "execute_result"
    }
   ],
   "source": [
    "z.imag"
   ]
  },
  {
   "cell_type": "code",
   "execution_count": 25,
   "id": "305d65d1",
   "metadata": {},
   "outputs": [
    {
     "data": {
      "text/plain": [
       "0j"
      ]
     },
     "execution_count": 25,
     "metadata": {},
     "output_type": "execute_result"
    }
   ],
   "source": [
    "complex()"
   ]
  },
  {
   "cell_type": "code",
   "execution_count": 26,
   "id": "169085f2",
   "metadata": {},
   "outputs": [
    {
     "data": {
      "text/plain": [
       "0.0"
      ]
     },
     "execution_count": 26,
     "metadata": {},
     "output_type": "execute_result"
    }
   ],
   "source": [
    "float()"
   ]
  },
  {
   "cell_type": "code",
   "execution_count": 27,
   "id": "c1f889f3",
   "metadata": {},
   "outputs": [
    {
     "data": {
      "text/plain": [
       "0"
      ]
     },
     "execution_count": 27,
     "metadata": {},
     "output_type": "execute_result"
    }
   ],
   "source": [
    "int()"
   ]
  },
  {
   "cell_type": "code",
   "execution_count": 32,
   "id": "92e3651d",
   "metadata": {},
   "outputs": [],
   "source": [
    "import decimal"
   ]
  },
  {
   "cell_type": "code",
   "execution_count": 33,
   "id": "31f4e293",
   "metadata": {},
   "outputs": [],
   "source": [
    "a = decimal.Decimal(9876)"
   ]
  },
  {
   "cell_type": "code",
   "execution_count": 34,
   "id": "8261c211",
   "metadata": {},
   "outputs": [
    {
     "data": {
      "text/plain": [
       "Decimal('9876')"
      ]
     },
     "execution_count": 34,
     "metadata": {},
     "output_type": "execute_result"
    }
   ],
   "source": [
    "a"
   ]
  },
  {
   "cell_type": "code",
   "execution_count": 58,
   "id": "8cc775d1",
   "metadata": {},
   "outputs": [],
   "source": [
    "a = 23\n",
    "b = 12.3940022104033049"
   ]
  },
  {
   "cell_type": "code",
   "execution_count": 59,
   "id": "fcf45adf",
   "metadata": {},
   "outputs": [
    {
     "data": {
      "text/plain": [
       "35.3940022104033"
      ]
     },
     "execution_count": 59,
     "metadata": {},
     "output_type": "execute_result"
    }
   ],
   "source": [
    "a+b"
   ]
  },
  {
   "cell_type": "code",
   "execution_count": 62,
   "id": "ea81fffc",
   "metadata": {},
   "outputs": [],
   "source": [
    "a2 = decimal.Decimal(\"23\")\n",
    "b2 = decimal.Decimal(\"12.3940022104033049\")"
   ]
  },
  {
   "cell_type": "code",
   "execution_count": 63,
   "id": "14c44a32",
   "metadata": {},
   "outputs": [
    {
     "data": {
      "text/plain": [
       "Decimal('35.3940022104033049')"
      ]
     },
     "execution_count": 63,
     "metadata": {},
     "output_type": "execute_result"
    }
   ],
   "source": [
    "a2+b2"
   ]
  },
  {
   "cell_type": "code",
   "execution_count": 64,
   "id": "b5f07c8d",
   "metadata": {},
   "outputs": [
    {
     "data": {
      "text/plain": [
       "''"
      ]
     },
     "execution_count": 64,
     "metadata": {},
     "output_type": "execute_result"
    }
   ],
   "source": [
    "str()"
   ]
  },
  {
   "cell_type": "code",
   "execution_count": 65,
   "id": "f579b2e6",
   "metadata": {},
   "outputs": [],
   "source": [
    "薛之謙 = 2"
   ]
  },
  {
   "cell_type": "code",
   "execution_count": 66,
   "id": "eaa8975a",
   "metadata": {},
   "outputs": [
    {
     "data": {
      "text/plain": [
       "2"
      ]
     },
     "execution_count": 66,
     "metadata": {},
     "output_type": "execute_result"
    }
   ],
   "source": [
    "薛之謙"
   ]
  },
  {
   "cell_type": "code",
   "execution_count": 70,
   "id": "a9442d45",
   "metadata": {},
   "outputs": [
    {
     "data": {
      "text/plain": [
       "113"
      ]
     },
     "execution_count": 70,
     "metadata": {},
     "output_type": "execute_result"
    }
   ],
   "source": [
    "ord('q')"
   ]
  },
  {
   "cell_type": "code",
   "execution_count": 74,
   "id": "7388b77c",
   "metadata": {},
   "outputs": [],
   "source": [
    "string = [\"you\",\"are\",\"the\",\"apple\",\"of\",\"my\",\"eyes\"]"
   ]
  },
  {
   "cell_type": "code",
   "execution_count": 75,
   "id": "90d1ad47",
   "metadata": {},
   "outputs": [
    {
     "data": {
      "text/plain": [
       "['you', 'are', 'the', 'apple', 'of', 'my', 'eyes']"
      ]
     },
     "execution_count": 75,
     "metadata": {},
     "output_type": "execute_result"
    }
   ],
   "source": [
    "string"
   ]
  },
  {
   "cell_type": "code",
   "execution_count": 79,
   "id": "92e268be",
   "metadata": {},
   "outputs": [],
   "source": [
    "unite = '-<>-'.join(string)"
   ]
  },
  {
   "cell_type": "code",
   "execution_count": 80,
   "id": "cb47acbe",
   "metadata": {},
   "outputs": [
    {
     "data": {
      "text/plain": [
       "['you', 'are', 'the', 'apple', 'of', 'my', 'eyes']"
      ]
     },
     "execution_count": 80,
     "metadata": {},
     "output_type": "execute_result"
    }
   ],
   "source": [
    "string"
   ]
  },
  {
   "cell_type": "code",
   "execution_count": 103,
   "id": "3341635e",
   "metadata": {},
   "outputs": [
    {
     "name": "stdout",
     "output_type": "stream",
     "text": [
      "1\n"
     ]
    }
   ],
   "source": [
    "try:\n",
    "    print(string[0].find('o'))\n",
    "except ValueError as err:\n",
    "    print(err)"
   ]
  },
  {
   "cell_type": "code",
   "execution_count": 91,
   "id": "10350f8a",
   "metadata": {},
   "outputs": [
    {
     "data": {
      "text/plain": [
       "'seye-><-ym-><-fo-><-elppa-><-eht-><-era-><-uoy'"
      ]
     },
     "execution_count": 91,
     "metadata": {},
     "output_type": "execute_result"
    }
   ],
   "source": [
    "unite[::-1]"
   ]
  },
  {
   "cell_type": "code",
   "execution_count": 89,
   "id": "24ea5803",
   "metadata": {},
   "outputs": [
    {
     "data": {
      "text/plain": [
       "<reversed at 0x120c6b9d570>"
      ]
     },
     "execution_count": 89,
     "metadata": {},
     "output_type": "execute_result"
    }
   ],
   "source": [
    "reversed(unite)"
   ]
  },
  {
   "cell_type": "code",
   "execution_count": null,
   "id": "3188f4b8",
   "metadata": {},
   "outputs": [],
   "source": []
  }
 ],
 "metadata": {
  "kernelspec": {
   "display_name": "Python 3 (ipykernel)",
   "language": "python",
   "name": "python3"
  },
  "language_info": {
   "codemirror_mode": {
    "name": "ipython",
    "version": 3
   },
   "file_extension": ".py",
   "mimetype": "text/x-python",
   "name": "python",
   "nbconvert_exporter": "python",
   "pygments_lexer": "ipython3",
   "version": "3.10.4"
  }
 },
 "nbformat": 4,
 "nbformat_minor": 5
}
